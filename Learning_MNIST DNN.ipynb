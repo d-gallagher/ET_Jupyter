{
 "cells": [
  {
   "cell_type": "code",
   "execution_count": 26,
   "metadata": {},
   "outputs": [
    {
     "name": "stdout",
     "output_type": "stream",
     "text": [
      "Epoch 1/3\n",
      "60000/60000 [==============================] - 5s 89us/sample - loss: 0.2636 - acc: 0.9231\n",
      "Epoch 2/3\n",
      "60000/60000 [==============================] - 5s 80us/sample - loss: 0.1053 - acc: 0.9674\n",
      "Epoch 3/3\n",
      "60000/60000 [==============================] - 5s 79us/sample - loss: 0.0720 - acc: 0.9775\n"
     ]
    },
    {
     "data": {
      "text/plain": [
       "<tensorflow.python.keras.callbacks.History at 0x12a96c6d2e8>"
      ]
     },
     "execution_count": 26,
     "metadata": {},
     "output_type": "execute_result"
    }
   ],
   "source": [
    "import tensorflow as tf\n",
    "# %matplotlib inline \n",
    "import matplotlib.pyplot as plt\n",
    "\n",
    "\n",
    "# Get the mnist dataset\n",
    "mnist = tf.keras.datasets.mnist\n",
    "\n",
    "# Unpack training and test datasets\n",
    "(x_train, y_train), (x_test, y_test) = mnist.load_data()\n",
    "\n",
    "# Normalize the data to between 0-1 rather than 0-255\n",
    "x_train = tf.keras.utils.normalize(x_train, axis=1)\n",
    "x_test = tf.keras.utils.normalize(x_test, axis=1)\n",
    "\n",
    "# Sequential model (add layer by layer), less complex than a functional model\n",
    "model = tf.keras.models.Sequential()\n",
    "\n",
    "# Use keras to flatten our input layer to a single dimension array\n",
    "model.add(tf.keras.layers.Flatten(input_shape=(28, 28)))\n",
    "# 128 neurons, relu (rectified linear) as activation function\n",
    "model.add(tf.keras.layers.Dense(128, activation = tf.nn.relu))\n",
    "model.add(tf.keras.layers.Dense(128, activation = tf.nn.relu))\n",
    "# Output Layer - 10 neurons, using Softmax for probability distribution\n",
    "model.add(tf.keras.layers.Dense(10, activation = tf.nn.softmax))\n",
    "\n",
    "# Training params for the model: using 'adam' optimizer, loss for degree of error, return accuracy metrics\n",
    "model.compile(optimizer='adam', loss='sparse_categorical_crossentropy', metrics=['accuracy'])\n",
    "# Train the model, Define 'epochs', how many times we run the training\n",
    "model.fit(x_train, y_train, epochs=3)\n",
    "\n"
   ]
  },
  {
   "cell_type": "code",
   "execution_count": 27,
   "metadata": {},
   "outputs": [
    {
     "name": "stdout",
     "output_type": "stream",
     "text": [
      "10000/10000 [==============================] - 1s 58us/sample - loss: 0.0922 - acc: 0.9729\n",
      "0.09217581622945145 0.9729\n"
     ]
    }
   ],
   "source": [
    "# Calculate the loss and accuracy validations\n",
    "val_loss, val_acc = model.evaluate(x_test, y_test)\n",
    "print(val_loss, val_acc)"
   ]
  },
  {
   "cell_type": "code",
   "execution_count": 28,
   "metadata": {},
   "outputs": [],
   "source": [
    "# Save the model\n",
    "model.save('numberPredictor.h5')"
   ]
  },
  {
   "cell_type": "code",
   "execution_count": 29,
   "metadata": {},
   "outputs": [],
   "source": [
    "# Load the saved Model\n",
    "working_model = tf.keras.models.load_model('numberPredictor.h5')"
   ]
  },
  {
   "cell_type": "code",
   "execution_count": 30,
   "metadata": {},
   "outputs": [
    {
     "name": "stdout",
     "output_type": "stream",
     "text": [
      "[[1.0699421e-11 7.8728704e-09 2.8615655e-06 ... 9.9999464e-01\n",
      "  4.0394276e-08 1.7835322e-07]\n",
      " [4.6283082e-11 1.0334031e-05 9.9998951e-01 ... 3.4633185e-10\n",
      "  8.5547275e-10 6.9624922e-15]\n",
      " [8.4588114e-09 9.9974388e-01 5.6686542e-05 ... 1.3872524e-04\n",
      "  1.7540704e-05 1.3898271e-07]\n",
      " ...\n",
      " [6.2157297e-09 2.0928990e-06 1.3168372e-07 ... 1.3221748e-04\n",
      "  1.0185138e-05 8.3550753e-05]\n",
      " [4.7461586e-07 1.2433382e-07 4.5951492e-07 ... 6.1625178e-06\n",
      "  1.2397141e-03 6.9091112e-07]\n",
      " [5.2963526e-07 3.7019481e-09 1.3922572e-07 ... 4.6102819e-11\n",
      "  6.4422892e-07 8.1361812e-10]]\n"
     ]
    }
   ],
   "source": [
    "# Predictions is the loaded model predicting what number it has been given from the test set\n",
    "predictions = working_model.predict([x_test])\n",
    "print(predictions)"
   ]
  },
  {
   "cell_type": "code",
   "execution_count": 31,
   "metadata": {},
   "outputs": [
    {
     "name": "stdout",
     "output_type": "stream",
     "text": [
      "0\n"
     ]
    }
   ],
   "source": [
    "# Using numpy to display the predicted number in the list\n",
    "import numpy as np\n",
    "print(np.argmax(predictions[55]))"
   ]
  },
  {
   "cell_type": "code",
   "execution_count": 32,
   "metadata": {},
   "outputs": [
    {
     "data": {
      "image/png": "[encoded data removed]",
      "text/plain": [
       "<Figure size 432x288 with 1 Axes>"
      ]
     },
     "metadata": {
      "needs_background": "light"
     },
     "output_type": "display_data"
    }
   ],
   "source": [
    "# Using matplotlib to display the predicted number for comparison\n",
    "plt.imshow(x_test[55])\n",
    "plt.show()"
   ]
  },
  {
   "cell_type": "code",
   "execution_count": null,
   "metadata": {},
   "outputs": [],
   "source": []
  }
 ],
 "metadata": {
  "kernelspec": {
   "display_name": "Python 3",
   "language": "python",
   "name": "python3"
  },
  "language_info": {
   "codemirror_mode": {
    "name": "ipython",
    "version": 3
   },
   "file_extension": ".py",
   "mimetype": "text/x-python",
   "name": "python",
   "nbconvert_exporter": "python",
   "pygments_lexer": "ipython3",
   "version": "3.7.3"
  }
 },
 "nbformat": 4,
 "nbformat_minor": 2
}
