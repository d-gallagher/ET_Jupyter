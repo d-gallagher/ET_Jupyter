{
 "cells": [
  {
   "cell_type": "code",
   "execution_count": 5,
   "metadata": {},
   "outputs": [
    {
     "name": "stdout",
     "output_type": "stream",
     "text": [
      "Original X shape (60000, 28, 28)\n",
      "Original Y shape (60000,)\n",
      "Training X matrix shape (60000, 784)\n",
      "Testing X matrix shape (10000, 784)\n",
      "Y_train[0]  5\n",
      "Epoch 1/3\n",
      "60000/60000 [==============================] - 4s 73us/sample - loss: 0.2316 - acc: 0.9322\n",
      "Epoch 2/3\n",
      "60000/60000 [==============================] - 5s 79us/sample - loss: 0.0972 - acc: 0.9701\n",
      "Epoch 3/3\n",
      "60000/60000 [==============================] - 4s 74us/sample - loss: 0.0680 - acc: 0.9789\n"
     ]
    },
    {
     "data": {
      "text/plain": [
       "<tensorflow.python.keras.callbacks.History at 0x202d8152c18>"
      ]
     },
     "execution_count": 5,
     "metadata": {},
     "output_type": "execute_result"
    }
   ],
   "source": [
    "\"\"\"\n",
    "This NN is build following the Sentdex Tutorial found here:\n",
    "Deep Learning with Python, TensorFlow, and Keras tutorial - https://www.youtube.com/watch?v=wQ8BIBpya2k\n",
    "\"\"\"\n",
    "import tensorflow as tf\n",
    "# %matplotlib inline \n",
    "import matplotlib.pyplot as plt\n",
    "\n",
    "\n",
    "# Get the mnist dataset\n",
    "mnist = tf.keras.datasets.mnist\n",
    "\n",
    "# Unpack training and test datasets\n",
    "(X_train, Y_train), (X_test, Y_test) = mnist.load_data()\n",
    "print(\"Original X shape\", X_train.shape)\n",
    "print(\"Original Y shape\", Y_train.shape)\n",
    "\n",
    "\"\"\"\n",
    " https://www.ics.uci.edu/~mohamadt/keras_mnist.html\n",
    " Testing canvas image to flask to predict lead to some errors with the array shape.\n",
    " After some research I found the solution to be that it needs to be reshaped prior to training \n",
    "\"\"\"\n",
    "\n",
    "# Reshape data.\n",
    "X_train = X_train.reshape(60000, 784)\n",
    "X_test  = X_test.reshape(10000, 784)\n",
    "X_train = X_train.astype('float32') \n",
    "X_test  = X_test.astype('float32')\n",
    "X_train /= 255 # Original data is uint8 (0-255). Scale it to range [0,1].\n",
    "X_test  /= 255\n",
    "\n",
    "print(\"Training X matrix shape\", X_train.shape)\n",
    "print(\"Testing X matrix shape\", X_test.shape)\n",
    "print(\"Y_train[0] \", Y_train[0])\n",
    "\n",
    "# # Normalize the data to between 0-1 rather than 0-255\n",
    "# x_train = tf.keras.utils.normalize(x_train, axis=1)\n",
    "# x_test = tf.keras.utils.normalize(x_test, axis=1)\n",
    "\n",
    "# Sequential model (add layer by layer), less complex than a functional model\n",
    "model = tf.keras.models.Sequential()\n",
    "\n",
    "# Use keras to flatten our input layer to a single dimension array\n",
    "# model.add(tf.keras.layers.Flatten(input_shape=(784)))\n",
    "# 128 neurons, relu (rectified linear) as activation function\n",
    "model.add(tf.keras.layers.Dense(128, activation = tf.nn.relu,input_shape=(784,)))\n",
    "model.add(tf.keras.layers.Dense(128, activation = tf.nn.relu))\n",
    "# Output Layer - 10 neurons, using Softmax for probability distribution\n",
    "model.add(tf.keras.layers.Dense(10, activation = tf.nn.softmax))\n",
    "\n",
    "# Training params for the model: using 'adam' optimizer, loss for degree of error, return accuracy metrics\n",
    "model.compile(optimizer='adam', loss='sparse_categorical_crossentropy', metrics=['accuracy'])\n",
    "# Train the model, Define 'epochs', how many times we run the training\n",
    "model.fit(X_train, Y_train, epochs=3)\n",
    "\n"
   ]
  },
  {
   "cell_type": "code",
   "execution_count": 6,
   "metadata": {},
   "outputs": [
    {
     "name": "stdout",
     "output_type": "stream",
     "text": [
      "10000/10000 [==============================] - 0s 34us/sample - loss: 0.0742 - acc: 0.9774\n",
      "0.0741552268156549 0.9774\n"
     ]
    }
   ],
   "source": [
    "# Calculate the loss and accuracy validations\n",
    "val_loss, val_acc = model.evaluate(X_test, Y_test)\n",
    "print(val_loss, val_acc)"
   ]
  },
  {
   "cell_type": "code",
   "execution_count": 8,
   "metadata": {},
   "outputs": [],
   "source": [
    "# Save the model\n",
    "model.save('numberPredictor.h5')"
   ]
  },
  {
   "cell_type": "code",
   "execution_count": 9,
   "metadata": {},
   "outputs": [
    {
     "name": "stdout",
     "output_type": "stream",
     "text": [
      "WARNING:tensorflow:From C:\\Users\\David\\Anaconda3\\lib\\site-packages\\tensorflow\\python\\ops\\init_ops.py:97: calling GlorotUniform.__init__ (from tensorflow.python.ops.init_ops) with dtype is deprecated and will be removed in a future version.\n",
      "Instructions for updating:\n",
      "Call initializer instance with the dtype argument instead of passing it to the constructor\n",
      "WARNING:tensorflow:From C:\\Users\\David\\Anaconda3\\lib\\site-packages\\tensorflow\\python\\ops\\init_ops.py:97: calling Zeros.__init__ (from tensorflow.python.ops.init_ops) with dtype is deprecated and will be removed in a future version.\n",
      "Instructions for updating:\n",
      "Call initializer instance with the dtype argument instead of passing it to the constructor\n"
     ]
    }
   ],
   "source": [
    "# Load the saved Model\n",
    "working_model = tf.keras.models.load_model('numberPredictor.h5')"
   ]
  },
  {
   "cell_type": "code",
   "execution_count": 11,
   "metadata": {},
   "outputs": [
    {
     "name": "stdout",
     "output_type": "stream",
     "text": [
      "[[6.2619250e-07 4.6378750e-06 2.5454779e-05 ... 9.9989843e-01\n",
      "  1.3449841e-06 3.8400616e-05]\n",
      " [6.2954015e-08 1.5632308e-05 9.9998176e-01 ... 1.0175439e-08\n",
      "  5.1707680e-08 2.8914429e-10]\n",
      " [1.2114575e-07 9.9903524e-01 1.1187329e-04 ... 1.8841791e-04\n",
      "  2.7816423e-04 1.6330021e-06]\n",
      " ...\n",
      " [2.3647076e-10 1.3161342e-08 1.0177782e-09 ... 2.6402788e-05\n",
      "  9.8740918e-07 4.0897357e-06]\n",
      " [1.2538927e-06 1.7515413e-07 7.5747195e-09 ... 3.9677229e-04\n",
      "  4.6606679e-04 6.5488152e-08]\n",
      " [2.4133145e-10 1.1809413e-10 2.4370175e-09 ... 1.6442181e-11\n",
      "  2.9822975e-10 7.9000410e-11]]\n"
     ]
    }
   ],
   "source": [
    "# Predictions is the loaded model predicting what number it has been given from the test set\n",
    "predictions = working_model.predict([X_test])\n",
    "print(predictions)"
   ]
  },
  {
   "cell_type": "code",
   "execution_count": 21,
   "metadata": {},
   "outputs": [
    {
     "name": "stdout",
     "output_type": "stream",
     "text": [
      "3\n"
     ]
    }
   ],
   "source": [
    "# Using numpy to display the predicted number in the list\n",
    "import numpy as np\n",
    "print(np.argmax(predictions[90]))"
   ]
  },
  {
   "cell_type": "code",
   "execution_count": 22,
   "metadata": {},
   "outputs": [
    {
     "name": "stdout",
     "output_type": "stream",
     "text": [
      "Before Reshape (784,)\n",
      "After Reshape (784,)\n"
     ]
    },
    {
     "data": {
      "image/png": "[encoded data removed]",
      "text/plain": [
       "<Figure size 432x288 with 1 Axes>"
      ]
     },
     "metadata": {
      "needs_background": "light"
     },
     "output_type": "display_data"
    }
   ],
   "source": [
    "# Using matplotlib to display the predicted number for comparison\n",
    "print(\"Before Reshape\", X_test[90].shape)\n",
    "plt.imshow(X_test[90].reshape(28, 28), cmap=\"gray\")\n",
    "print(\"After Reshape\",X_test[90].shape)\n",
    "plt.show()"
   ]
  },
  {
   "cell_type": "code",
   "execution_count": null,
   "metadata": {},
   "outputs": [],
   "source": []
  }
 ],
 "metadata": {
  "kernelspec": {
   "display_name": "Python 3",
   "language": "python",
   "name": "python3"
  },
  "language_info": {
   "codemirror_mode": {
    "name": "ipython",
    "version": 3
   },
   "file_extension": ".py",
   "mimetype": "text/x-python",
   "name": "python",
   "nbconvert_exporter": "python",
   "pygments_lexer": "ipython3",
   "version": "3.7.3"
  }
 },
 "nbformat": 4,
 "nbformat_minor": 2
}
