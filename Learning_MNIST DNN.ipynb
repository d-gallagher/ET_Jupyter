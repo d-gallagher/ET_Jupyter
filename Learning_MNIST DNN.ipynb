{
 "cells": [
  {
   "cell_type": "code",
   "execution_count": 32,
   "metadata": {},
   "outputs": [
    {
     "name": "stdout",
     "output_type": "stream",
     "text": [
      "Epoch 1/3\n",
      "60000/60000 [==============================] - 5s 75us/sample - loss: 0.2583 - acc: 0.9238\n",
      "Epoch 2/3\n",
      "60000/60000 [==============================] - 4s 73us/sample - loss: 0.1063 - acc: 0.9668\n",
      "Epoch 3/3\n",
      "60000/60000 [==============================] - 4s 73us/sample - loss: 0.0731 - acc: 0.9772\n"
     ]
    },
    {
     "data": {
      "text/plain": [
       "<tensorflow.python.keras.callbacks.History at 0x1ed87342390>"
      ]
     },
     "execution_count": 32,
     "metadata": {},
     "output_type": "execute_result"
    }
   ],
   "source": [
    "import tensorflow as tf\n",
    "# %matplotlib inline \n",
    "import matplotlib.pyplot as plt\n",
    "\n",
    "\n",
    "# Get the mnist dataset\n",
    "mnist = tf.keras.datasets.mnist\n",
    "\n",
    "# Unpack the dataset \n",
    "(x_train, y_train), (x_test, y_test) = mnist.load_data()\n",
    "\n",
    "# Loop over and print (each array has 60k items)\n",
    "# Printing individual data from x_train/test shows us the array of data values from 0-255.\n",
    "# This data will later be normalized for easier usage\n",
    "\n",
    "# for item in range(len(x_train)):\n",
    "#     print(\"Item \" +str(item))\n",
    "#     print(x_train[item])\n",
    "\n",
    "\n",
    "# Using pyplot to view data as images\n",
    "# https://stackoverflow.com/questions/2659312/how-do-i-convert-a-numpy-array-to-and-display-an-image\n",
    "# print(\"Enter which index you want to view. \")\n",
    "# item = input()\n",
    "# plt.imshow(x_train[int(item)], interpolation='nearest')\n",
    "# plt.show()\n",
    "\n",
    "# Normalize the data to between 0-1 rather than 0-255\n",
    "x_train = tf.keras.utils.normalize(x_train, axis=1)\n",
    "x_test = tf.keras.utils.normalize(x_test, axis=1)\n",
    "\n",
    "# print(x_train[0])\n",
    "\n",
    "# Added Flatten(), could not compile without\n",
    "# SGD optimizer gives less than .5 accuracy first run.. less than .02 second run?\n",
    "\n",
    "# Sequential model\n",
    "model = tf.keras.models.Sequential()\n",
    "# Use keras to flatten our input layer to a single dimension array\n",
    "model.add(tf.keras.layers.Flatten(input_shape=(28, 28)))\n",
    "# 128 neurins, relu (rectified linear) as activation function\n",
    "model.add(tf.keras.layers.Dense(128, activation = tf.nn.relu))\n",
    "model.add(tf.keras.layers.Dense(128, activation = tf.nn.relu))\n",
    "# Output Layer - 10 neurons, using Softmax for probability distribution\n",
    "model.add(tf.keras.layers.Dense(10, activation = tf.nn.softmax))\n",
    "\n",
    "# Training params for the model: using 'adam' optimizer, loss for degree of error, return accuracy metrics\n",
    "model.compile(optimizer='adam', loss='sparse_categorical_crossentropy', metrics=['accuracy'])\n",
    "# Train the model, Define 'epochs', how many times we run the training\n",
    "model.fit(x_train, y_train, epochs=3)\n",
    "# model.save('sgd_TestModel')\n"
   ]
  },
  {
   "cell_type": "code",
   "execution_count": 33,
   "metadata": {},
   "outputs": [
    {
     "name": "stdout",
     "output_type": "stream",
     "text": [
      "10000/10000 [==============================] - 0s 44us/sample - loss: 0.0950 - acc: 0.9708\n",
      "0.09500520302243531 0.9708\n"
     ]
    }
   ],
   "source": [
    "# Calculate the loss and accuracy validations\n",
    "val_loss, val_acc = model.evaluate(x_test, y_test)\n",
    "print(val_loss, val_acc)"
   ]
  },
  {
   "cell_type": "code",
   "execution_count": 34,
   "metadata": {},
   "outputs": [],
   "source": [
    "# Save teh model\n",
    "model.save('adam_TestModel.model')"
   ]
  },
  {
   "cell_type": "code",
   "execution_count": 35,
   "metadata": {},
   "outputs": [],
   "source": [
    "# Load the saved Model\n",
    "working_model = tf.keras.models.load_model('adam_TestModel.model')"
   ]
  },
  {
   "cell_type": "code",
   "execution_count": 36,
   "metadata": {},
   "outputs": [
    {
     "name": "stdout",
     "output_type": "stream",
     "text": [
      "[[6.6595335e-10 6.1877126e-09 4.4167558e-07 ... 9.9997258e-01\n",
      "  1.3816723e-08 7.7124668e-08]\n",
      " [2.6668724e-07 1.3376152e-04 9.9984419e-01 ... 1.3667726e-07\n",
      "  1.3771010e-05 1.9860362e-11]\n",
      " [1.9162938e-08 9.9955255e-01 2.1014070e-05 ... 3.4306329e-04\n",
      "  6.6252069e-05 1.5479812e-07]\n",
      " ...\n",
      " [6.9996919e-10 2.8273104e-07 4.1239389e-08 ... 2.1096955e-04\n",
      "  3.2121082e-07 8.8809425e-04]\n",
      " [1.7906964e-07 3.9542570e-08 2.8060574e-09 ... 2.1768047e-07\n",
      "  2.0493974e-03 1.8633834e-07]\n",
      " [1.1419605e-06 8.6887003e-10 1.9712877e-08 ... 2.8130427e-11\n",
      "  4.3454941e-07 5.4130593e-09]]\n"
     ]
    }
   ],
   "source": [
    "# Predictions is the loaded model predicting what number it has been given from the test set\n",
    "predictions = working_model.predict([x_test])\n",
    "print(predictions)"
   ]
  },
  {
   "cell_type": "code",
   "execution_count": 40,
   "metadata": {},
   "outputs": [
    {
     "name": "stdout",
     "output_type": "stream",
     "text": [
      "1\n"
     ]
    }
   ],
   "source": [
    "# Using numpy to display the predicted number in the list\n",
    "import numpy as np\n",
    "print(np.argmax(predictions[2]))"
   ]
  },
  {
   "cell_type": "code",
   "execution_count": 41,
   "metadata": {},
   "outputs": [
    {
     "data": {
      "image/png": "[encoded data removed]",
      "text/plain": [
       "<Figure size 432x288 with 1 Axes>"
      ]
     },
     "metadata": {
      "needs_background": "light"
     },
     "output_type": "display_data"
    }
   ],
   "source": [
    "# Using matplotlib to display the predicted number for comparison\n",
    "plt.imshow(x_test[2])\n",
    "plt.show()"
   ]
  },
  {
   "cell_type": "code",
   "execution_count": null,
   "metadata": {},
   "outputs": [],
   "source": []
  }
 ],
 "metadata": {
  "kernelspec": {
   "display_name": "Python 3",
   "language": "python",
   "name": "python3"
  },
  "language_info": {
   "codemirror_mode": {
    "name": "ipython",
    "version": 3
   },
   "file_extension": ".py",
   "mimetype": "text/x-python",
   "name": "python",
   "nbconvert_exporter": "python",
   "pygments_lexer": "ipython3",
   "version": "3.7.3"
  }
 },
 "nbformat": 4,
 "nbformat_minor": 2
}
