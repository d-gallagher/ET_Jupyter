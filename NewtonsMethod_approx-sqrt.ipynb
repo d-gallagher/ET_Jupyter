{
 "cells": [
  {
   "cell_type": "code",
   "execution_count": 1,
   "metadata": {},
   "outputs": [
    {
     "name": "stdout",
     "output_type": "stream",
     "text": [
      "2.8284685718801468\n",
      "8.000234462113717\n"
     ]
    }
   ],
   "source": [
    "# Find an approximation for the square root of x by looping over the input (x)\n",
    "# The objective of the loop is to get to within range of specified decimal places\n",
    "# https://en.wikipedia.org/wiki/Newton%27s_method\n",
    "\n",
    "def sqrt(x):\n",
    "    # Initial Guess for z\n",
    "    z = 1.0\n",
    "\n",
    "    # Subsequent guesses should get closer to the square root of x (2 decimal places)\n",
    "    while abs(z*z - x) >= 0.01:\n",
    "        # Get a better approx of square root\n",
    "        z -= (z*z - x) / (2*z)\n",
    "    \n",
    "    return z\n",
    "\n",
    "#Calculate root of 8, and print it, then square and print again to confirm accuracy\n",
    "print (sqrt(8.0))\n",
    "print (sqrt(8.0)*sqrt(8.0))"
   ]
  }
 ],
 "metadata": {
  "kernelspec": {
   "display_name": "Python 3",
   "language": "python",
   "name": "python3"
  },
  "language_info": {
   "codemirror_mode": {
    "name": "ipython",
    "version": 3
   },
   "file_extension": ".py",
   "mimetype": "text/x-python",
   "name": "python",
   "nbconvert_exporter": "python",
   "pygments_lexer": "ipython3",
   "version": "3.7.1"
  }
 },
 "nbformat": 4,
 "nbformat_minor": 2
}
