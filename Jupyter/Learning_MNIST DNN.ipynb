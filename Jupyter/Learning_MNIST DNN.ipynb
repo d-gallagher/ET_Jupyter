{
 "cells": [
  {
   "cell_type": "markdown",
   "metadata": {},
   "source": [
    "# Tensorflow, Keras and MNIST\n",
    "#### David Gallagher\n",
    "\n",
    "### Brief Introduction.\n",
    "\n",
    "This notebook documents and outlines research into building a Neural Network (NN) using Tensorflow with Keras and MNIST as training data. The NN will be used to predict numbers given to it from a [web client](https://github.com/d-gallagher/ET_Jupyter) wherein users will draw digits on a canvas.\n",
    "\n",
    "#### Research into [Tensorflow](https://www.tensorflow.org/), and [Keras](https://keras.io/).\n",
    "##### Tensorflow\n",
    "An open source library for numerical computation and large-scale machine learning developed by the [Google Brain team](https://ai.google/research/teams/brain/). Tensorflow is a framework which combines a number of useful machine learning and deep learning models and algorithms. It uses [Python](https://www.python.org/) for building applications and executes those applications in C++ making it highly performant. Tensorflow is available for deep neural network applications based in [Image Recognition](https://www.tensorflow.org/tutorials/images/classification), [Language Processing](https://www.tensorflow.org/tutorials/text/word_embeddings) and [Handwritten digit recognition](https://www.tensorflow.org/js/tutorials/training/handwritten_digit_cnn) to name a few.\n",
    "\n",
    "##### Keras\n",
    "Keras is one of the leading high-level neural networks APIs, written in [Python](https://www.python.org/) and runs on top of the aforementioned [Tensorflow](https://www.tensorflow.org/), [Theano](http://deeplearning.net/software/theano/) and other deep learning frameworks. Originally developed by François Chollet, an engineer at Google, to be modular, minimalist, extensible and Python specific. It is set to be fully adopted by the upcoming [Tensorflow 2.0](https://www.tensorflow.org/guide/effective_tf2).\n",
    "\n",
    "#### [Brief Summary of MNIST](http://yann.lecun.com/exdb/mnist/)\n",
    "MNIST is a database of handwritten digits which can be used to train a NN for digit recognition. It comprises a training set of 60,000 examples, and a test set of 10,000 examples of digits which have been size-normalized and centered in a fixed-size image of 28 * 28 pixels. MNIST is a subset of the [NIST](https://www.nist.gov/itl/products-and-services/emnist-dataset) dataset with each digit processed to fit in a 20 * 20 pixel box preserving their original aspect ratio, then centered by computing their centre of mass, and placed on a 28 * 28 field.\n",
    "\n",
    "Following a basic tutorial from [Moodle](https://nbviewer.jupyter.org/github/ianmcloughlin/jupyter-teaching-notebooks/blob/master/mnist.ipynb) I further adapted the NN from the following sources: \n",
    "* [Deep Learning with Python, TensorFlow, and Keras](https://www.youtube.com/watch?v=wQ8BIBpya2k)\n",
    "* [Deep Learning Quick Start: MNIST in Keras](https://www.ics.uci.edu/~mohamadt/keras_mnist.html)\n",
    "* [Deeplizard Keras and Flask](https://www.youtube.com/playlist?list=PLv3j2_RROTdFyX3tYbEizaVXYHOdpgmQF)\n",
    "\n"
   ]
  },
  {
   "cell_type": "code",
   "execution_count": 5,
   "metadata": {},
   "outputs": [
    {
     "name": "stdout",
     "output_type": "stream",
     "text": [
      "Original X shape (60000, 28, 28)\n",
      "Original Y shape (60000,)\n",
      "Training X matrix shape (60000, 784)\n",
      "Testing X matrix shape (10000, 784)\n",
      "Y_train[0]  5\n",
      "Epoch 1/3\n",
      "60000/60000 [==============================] - 4s 73us/sample - loss: 0.2316 - acc: 0.9322\n",
      "Epoch 2/3\n",
      "60000/60000 [==============================] - 5s 79us/sample - loss: 0.0972 - acc: 0.9701\n",
      "Epoch 3/3\n",
      "60000/60000 [==============================] - 4s 74us/sample - loss: 0.0680 - acc: 0.9789\n"
     ]
    },
    {
     "data": {
      "text/plain": [
       "<tensorflow.python.keras.callbacks.History at 0x202d8152c18>"
      ]
     },
     "execution_count": 5,
     "metadata": {},
     "output_type": "execute_result"
    }
   ],
   "source": [
    "# Import the tensorflow framework (contains Keras)- rename to 'tf' for minimal typing later\n",
    "import tensorflow as tf\n",
    "# %matplotlib inline \n",
    "import matplotlib.pyplot as plt\n",
    "\n",
    "\n",
    "# Get the mnist dataset from keras\n",
    "mnist = tf.keras.datasets.mnist\n",
    "\n",
    "# Unpack training and test datasets\n",
    "(X_train, Y_train), (X_test, Y_test) = mnist.load_data()\n",
    "# Printing the shape of the x training sets shows us there are 60000 items of size 28*28 rows*cols\n",
    "print(\"Original X shape\", X_train.shape)\n",
    "# The y training set consists of 60000 labels for the x image samples\n",
    "print(\"Original Y shape\", Y_train.shape)\n",
    "\n",
    "\"\"\"\n",
    "We need to reshape the data prior to training. Our sample are 2 dimensional.\n",
    "In order to process the images in the NN we need to add a depth dimension.\n",
    "This is achieved by reshaping the images using the .reshape() function.\n",
    "Since our Images are in greyscale as opposed to RGB we reshape the array to 784 (28*28*1).\n",
    "RGB would be (28*28*3) for example..\n",
    "Following that we are converting our samples from uint8 to floats and scaling(normalizing) to between 0-1.\n",
    "\"\"\"\n",
    "\n",
    "# Reshape data.\n",
    "X_train = X_train.reshape(60000, 784)\n",
    "X_test  = X_test.reshape(10000, 784)\n",
    "X_train = X_train.astype('float32') \n",
    "X_test  = X_test.astype('float32')\n",
    "X_train /= 255 # Original data is uint8 (0-255). Scale it to range [0,1].\n",
    "X_test  /= 255\n",
    "\n",
    "# Quick print to view and confirm the newly applied shapes\n",
    "print(\"Training X matrix shape\", X_train.shape)\n",
    "print(\"Testing X matrix shape\", X_test.shape)\n",
    "\n",
    "# Sequential model (add layer by layer), less complex than a functional model\n",
    "model = tf.keras.models.Sequential()\n",
    "\n",
    "# Twon layers of 128 neurons, relu (rectified linear) as activation function\n",
    "model.add(tf.keras.layers.Dense(128, activation = tf.nn.relu,input_shape=(784,)))\n",
    "model.add(tf.keras.layers.Dense(128, activation = tf.nn.relu))\n",
    "\n",
    "# Output Layer - 10 neurons, using Softmax for probability distribution\n",
    "model.add(tf.keras.layers.Dense(10, activation = tf.nn.softmax))\n",
    "\n",
    "# Training params for the model: using 'adam' optimizer, loss for degree of error, return accuracy metrics\n",
    "# sparse_categorical_crossentropy with 10 classes gives us a final output between 0-9, which is exactly what we need for MNIST\n",
    "model.compile(optimizer='adam', loss='sparse_categorical_crossentropy', metrics=['accuracy'])\n",
    "\n",
    "# Train the model with the given inputs. 'epochs' - how many times we run the training. (Any more than 3 epochs offered diminishing returns.)\n",
    "model.fit(X_train, Y_train, epochs=3)\n",
    "\n"
   ]
  },
  {
   "cell_type": "markdown",
   "metadata": {},
   "source": [
    "#### We have built our NN model!.\n",
    "Time to evaluate the training and determine accuracy against the validation samples.\n",
    "#### [Whats the difference between the training and testing sets?](https://stackoverflow.com/questions/2976452/whats-is-the-difference-between-train-validation-and-test-set-in-neural-netwo)\n",
    "See 'Whats the difference' above for a more detailed explanation about training, testing and validation.\n",
    "The accuracy is pretty good for a basic NN. Convolutional NN's can offer further improvements on accuracy."
   ]
  },
  {
   "cell_type": "code",
   "execution_count": 6,
   "metadata": {},
   "outputs": [
    {
     "name": "stdout",
     "output_type": "stream",
     "text": [
      "10000/10000 [==============================] - 0s 34us/sample - loss: 0.0742 - acc: 0.9774\n",
      "0.0741552268156549 0.9774\n"
     ]
    }
   ],
   "source": [
    "# Calculate the loss and accuracy validations\n",
    "val_loss, val_acc = model.evaluate(X_test, Y_test)\n",
    "print(val_loss, val_acc)"
   ]
  },
  {
   "cell_type": "code",
   "execution_count": 8,
   "metadata": {},
   "outputs": [],
   "source": [
    "# Save the model for use in our FLask Application.\n",
    "model.save('numberPredictor.h5')"
   ]
  },
  {
   "cell_type": "markdown",
   "metadata": {},
   "source": [
    "We can now test the saved model to confirm it's working as expected and determine accuracy against selected sample images. We will load our saved model, using numpy and pyplot to help us confirm our test results."
   ]
  },
  {
   "cell_type": "code",
   "execution_count": 9,
   "metadata": {},
   "outputs": [
    {
     "name": "stdout",
     "output_type": "stream",
     "text": [
      "WARNING:tensorflow:From C:\\Users\\David\\Anaconda3\\lib\\site-packages\\tensorflow\\python\\ops\\init_ops.py:97: calling GlorotUniform.__init__ (from tensorflow.python.ops.init_ops) with dtype is deprecated and will be removed in a future version.\n",
      "Instructions for updating:\n",
      "Call initializer instance with the dtype argument instead of passing it to the constructor\n",
      "WARNING:tensorflow:From C:\\Users\\David\\Anaconda3\\lib\\site-packages\\tensorflow\\python\\ops\\init_ops.py:97: calling Zeros.__init__ (from tensorflow.python.ops.init_ops) with dtype is deprecated and will be removed in a future version.\n",
      "Instructions for updating:\n",
      "Call initializer instance with the dtype argument instead of passing it to the constructor\n"
     ]
    }
   ],
   "source": [
    "# Load the saved Model\n",
    "working_model = tf.keras.models.load_model('numberPredictor.h5')"
   ]
  },
  {
   "cell_type": "code",
   "execution_count": 11,
   "metadata": {},
   "outputs": [
    {
     "name": "stdout",
     "output_type": "stream",
     "text": [
      "[[6.2619250e-07 4.6378750e-06 2.5454779e-05 ... 9.9989843e-01\n",
      "  1.3449841e-06 3.8400616e-05]\n",
      " [6.2954015e-08 1.5632308e-05 9.9998176e-01 ... 1.0175439e-08\n",
      "  5.1707680e-08 2.8914429e-10]\n",
      " [1.2114575e-07 9.9903524e-01 1.1187329e-04 ... 1.8841791e-04\n",
      "  2.7816423e-04 1.6330021e-06]\n",
      " ...\n",
      " [2.3647076e-10 1.3161342e-08 1.0177782e-09 ... 2.6402788e-05\n",
      "  9.8740918e-07 4.0897357e-06]\n",
      " [1.2538927e-06 1.7515413e-07 7.5747195e-09 ... 3.9677229e-04\n",
      "  4.6606679e-04 6.5488152e-08]\n",
      " [2.4133145e-10 1.1809413e-10 2.4370175e-09 ... 1.6442181e-11\n",
      "  2.9822975e-10 7.9000410e-11]]\n"
     ]
    }
   ],
   "source": [
    "# Predictions is the loaded model predicting what number it has been given from the test set\n",
    "predictions = working_model.predict([X_test])\n",
    "# This prints the output for the entire dataset, we will narrow it down by selecting individual sample images below.\n",
    "print(predictions)"
   ]
  },
  {
   "cell_type": "code",
   "execution_count": 21,
   "metadata": {},
   "outputs": [
    {
     "name": "stdout",
     "output_type": "stream",
     "text": [
      "3\n"
     ]
    }
   ],
   "source": [
    "# Using numpy to display the predicted number in the list.\n",
    "import numpy as np\n",
    "print(np.argmax(predictions[90]))"
   ]
  },
  {
   "cell_type": "code",
   "execution_count": 22,
   "metadata": {},
   "outputs": [
    {
     "name": "stdout",
     "output_type": "stream",
     "text": [
      "Before Reshape (784,)\n",
      "After Reshape (784,)\n"
     ]
    },
    {
     "data": {
      "image/png": "[encoded data removed]",
      "text/plain": [
       "<Figure size 432x288 with 1 Axes>"
      ]
     },
     "metadata": {
      "needs_background": "light"
     },
     "output_type": "display_data"
    }
   ],
   "source": [
    "# Using matplotlib to display the predicted number for comparison\n",
    "print(\"Before Reshape\", X_test[90].shape)\n",
    "plt.imshow(X_test[90].reshape(28, 28), cmap=\"gray\")\n",
    "print(\"After Reshape\",X_test[90].shape)\n",
    "plt.show()"
   ]
  },
  {
   "cell_type": "code",
   "execution_count": null,
   "metadata": {},
   "outputs": [],
   "source": []
  }
 ],
 "metadata": {
  "kernelspec": {
   "display_name": "Python 3",
   "language": "python",
   "name": "python3"
  },
  "language_info": {
   "codemirror_mode": {
    "name": "ipython",
    "version": 3
   },
   "file_extension": ".py",
   "mimetype": "text/x-python",
   "name": "python",
   "nbconvert_exporter": "python",
   "pygments_lexer": "ipython3",
   "version": "3.7.3"
  }
 },
 "nbformat": 4,
 "nbformat_minor": 2
}
