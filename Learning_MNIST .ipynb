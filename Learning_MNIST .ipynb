{
 "cells": [
  {
   "cell_type": "code",
   "execution_count": 40,
   "metadata": {},
   "outputs": [
    {
     "name": "stdout",
     "output_type": "stream",
     "text": [
      "Epoch 1/3\n",
      "60000/60000 [==============================] - 4s 67us/sample - loss: 103.5993 - acc: 0.1094\n",
      "Epoch 2/3\n",
      "60000/60000 [==============================] - 4s 64us/sample - loss: 102.5568 - acc: 0.1434\n",
      "Epoch 3/3\n",
      "60000/60000 [==============================] - 4s 64us/sample - loss: 102.5565 - acc: 0.1518\n"
     ]
    }
   ],
   "source": [
    "import tensorflow as tf\n",
    "# %matplotlib inline \n",
    "import matplotlib.pyplot as plt\n",
    "\n",
    "# Get the mnist dataset\n",
    "mnist = tf.keras.datasets.mnist\n",
    "\n",
    "# Unpack the dataset \n",
    "(x_train, y_train), (x_test, y_test) = mnist.load_data()\n",
    "\n",
    "# Loop over and print (each array has 60k items)\n",
    "# Printing individual data from x_train/test shows us the array of data values from 0-255.\n",
    "# This data will later be normalized for easier usage\n",
    "\n",
    "# for item in range(len(x_train)):\n",
    "#     print(\"Item \" +str(item))\n",
    "#     print(x_train[item])\n",
    "\n",
    "\n",
    "# Using pyplot to view data as images\n",
    "# https://stackoverflow.com/questions/2659312/how-do-i-convert-a-numpy-array-to-and-display-an-image\n",
    "# print(\"Enter which index you want to view. \")\n",
    "# item = input()\n",
    "# plt.imshow(x_train[int(item)], interpolation='nearest')\n",
    "# plt.show()\n",
    "\n",
    "# Normalize the data to between 0-1\n",
    "x_train = tf.keras.utils.normalize(x_train, axis=1)\n",
    "x_test = tf.keras.utils.normalize(x_train, axis=1)\n",
    "\n",
    "# print(x_train[0])\n",
    "\n",
    "# Added Flatten(), could not compile without\n",
    "# SGD optimizer gives less than .5 accuracy first run.. less than .02 second run?\n",
    "model = tf.keras.models.Sequential()\n",
    "model.add(tf.keras.layers.Flatten())\n",
    "model.add(tf.keras.layers.Dense(128, activation = tf.nn.relu))\n",
    "model.add(tf.keras.layers.Dense(128, activation = tf.nn.relu))\n",
    "model.add(tf.keras.layers.Dense(10, activation = tf.nn.relu))\n",
    "model.compile(optimizer='sgd', loss='categorical_crossentropy', metrics=['accuracy'])\n",
    "model.fit(x_train, y_train, epochs=3)\n",
    "model.save('sgd_TestModel')"
   ]
  },
  {
   "cell_type": "code",
   "execution_count": null,
   "metadata": {},
   "outputs": [],
   "source": []
  }
 ],
 "metadata": {
  "kernelspec": {
   "display_name": "Python 3",
   "language": "python",
   "name": "python3"
  },
  "language_info": {
   "codemirror_mode": {
    "name": "ipython",
    "version": 3
   },
   "file_extension": ".py",
   "mimetype": "text/x-python",
   "name": "python",
   "nbconvert_exporter": "python",
   "pygments_lexer": "ipython3",
   "version": "3.7.3"
  }
 },
 "nbformat": 4,
 "nbformat_minor": 2
}
